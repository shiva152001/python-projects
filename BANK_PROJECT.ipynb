{
  "nbformat": 4,
  "nbformat_minor": 0,
  "metadata": {
    "colab": {
      "provenance": []
    },
    "kernelspec": {
      "name": "python3",
      "display_name": "Python 3"
    },
    "language_info": {
      "name": "python"
    }
  },
  "cells": [
    {
      "cell_type": "code",
      "execution_count": 4,
      "metadata": {
        "colab": {
          "base_uri": "https://localhost:8080/"
        },
        "id": "N38d0jpbd_-6",
        "outputId": "e178d4f5-f90f-4f19-cb4d-6f81df7e2b0e"
      },
      "outputs": [
        {
          "output_type": "stream",
          "name": "stdout",
          "text": [
            "BANK NAME: -----Vamsi International Bank-----\n",
            "Branch Name: Gachibowli\n",
            "IFSC Code: UBIN0535125\n",
            "Account Creation\n",
            "Enter your name: shiva\n",
            "Enter your Mobile number (10 digits): 7095055362\n",
            "7095055362\n",
            "Balance amount: 1000\n",
            "Credit Amount\n",
            "Balance amount: 1000\n",
            "Enter your amount: 5000\n",
            "Total amount: 6000\n",
            "Debit Amount\n",
            "Enter your amount: 500\n",
            "Remaining balance: 5500\n"
          ]
        }
      ],
      "source": [
        "# Printing Bank Details\n",
        "print(\"BANK NAME: -----Vamsi International Bank-----\")\n",
        "print(\"Branch Name: ANATHAPUR\")\n",
        "print(\"IFSC Code: VIBN0020511\")\n",
        "\n",
        "# Initial account balance\n",
        "amount = 1000\n",
        "\n",
        "# Function to create an account\n",
        "def creation():\n",
        "    print(\"Account Creation\")\n",
        "    name = input(\"Enter your name: \")\n",
        "    phoneno = input(\"Enter your Mobile number (10 digits): \")\n",
        "    # Check if phone number is valid\n",
        "    if len(phoneno) == 10:\n",
        "        print(phoneno)\n",
        "    else:\n",
        "        print(\"Enter correct number\")\n",
        "    # Display initial balance\n",
        "    print(f\"Balance amount: {amount}\")\n",
        "\n",
        "# Function to credit money to the account\n",
        "def credit():\n",
        "    print(\"Credit Amount\")\n",
        "    global amount\n",
        "    print(f\"Balance amount: {amount}\")\n",
        "    add_amount = int(input(\"Enter your amount: \"))\n",
        "    # Add the credited amount to the balance\n",
        "    amount += add_amount\n",
        "    print(f\"Total amount: {amount}\")\n",
        "\n",
        "# Function to debit money from the account\n",
        "def debit():\n",
        "    print(\"Debit Amount\")\n",
        "    global amount\n",
        "    debit_amount = int(input(\"Enter your amount: \"))\n",
        "    # Check if there's enough balance to debit\n",
        "    if amount > debit_amount:\n",
        "        amount -= debit_amount\n",
        "        print(f\"Remaining balance: {amount}\")\n",
        "    else:\n",
        "        print(\"Insufficient balance\")\n",
        "\n",
        "# Test your functions\n",
        "creation()  # Create an account\n",
        "credit()    # Credit some money to the account\n",
        "debit()     # Debit some money from the account\n"
      ]
    }
  ]
}