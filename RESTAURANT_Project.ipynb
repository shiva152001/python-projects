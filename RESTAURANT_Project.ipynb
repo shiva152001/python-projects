{
  "cells": [
    {
      "cell_type": "code",
      "source": [
        "name = \"SARIGAMA FAMILY RESTAURANT\"\n",
        "print(name)\n",
        "print(\"Address : Hindhupur\")\n",
        "print(\"=\" * len(name))\n",
        "\n",
        "order= {\n",
        "    1: \"chicken biriyani\",\n",
        "    2: \"mutton biriyani\",\n",
        "    3: \"chicken tikka biriyani\",\n",
        "    4: \"veg biriyani\",\n",
        "    5: \"fish biriyani\",\n",
        "    6: \"prawns biriyani\",\n",
        "    7: \"water bottle\",\n",
        "    8: \"cooldrinks\"\n",
        "}\n",
        "price ={1:250,2:300,3:350,4:200,5:400,6:450,7:10,8:20}\n",
        "amount = 0\n",
        "while True:\n",
        "    item = int(input(\" ORDER    :\"))\n",
        "    if item in order:\n",
        "        print(\" Available\")\n",
        "        quantity = int(input(\" Qty      :\"))\n",
        "        print(f\" Item✍️  : {order[item]} :{price[item]}$\")\n",
        "        total_price = price[item] * quantity\n",
        "        gst = (total_price * 5) / 100\n",
        "        total_amount = total_price + gst\n",
        "        amount += total_amount\n",
        "        print(f\" Total $  : {total_price}\")\n",
        "        print(f\" Total&GST: {total_amount}\")\n",
        "        another_order = input(\" Do you want to add another order (yes or no): \")\n",
        "        if another_order.lower() == 'no':\n",
        "            print(\"=\" * 30)\n",
        "            print(f\" Total Amount: ${amount}\")\n",
        "            print(\"----🙏🙏Thankyou for visit😊🤗----\")\n",
        "            break\n",
        "    else:\n",
        "        print(\" Not available\")\n"
      ],
      "metadata": {
        "colab": {
          "base_uri": "https://localhost:8080/"
        },
        "id": "ulpIgTusaW_G",
        "outputId": "6faadece-8a05-496f-d7fb-0a0c08a73904"
      },
      "execution_count": 32,
      "outputs": [
        {
          "output_type": "stream",
          "name": "stdout",
          "text": [
            "SARIGAMA FAMILY RESTAURANT\n",
            "Address : Hindhupur\n",
            "==========================\n",
            " ORDER    :1\n",
            " Available\n",
            " Qty      :2\n",
            " Item✍️  : chicken biriyani :250$\n",
            " Total $  : 500\n",
            " Total&GST: 525.0\n",
            " Do you want to add another order (yes or no): yes\n",
            " ORDER    :1\n",
            " Available\n",
            " Qty      :4\n",
            " Item✍️  : chicken biriyani :250$\n",
            " Total $  : 1000\n",
            " Total&GST: 1050.0\n",
            " Do you want to add another order (yes or no): no\n",
            "==============================\n",
            " Total Amount: $1575.0\n",
            "----🙏🙏Thanks for Ordering😊🤗----\n"
          ]
        }
      ]
    },
    {
      "cell_type": "code",
      "source": [
        "# Restaurant name and address\n",
        "name = \"SARIGAMA FAMILY RESTAURANT\"\n",
        "print(name)\n",
        "print(\"Address : Hindhupur\")\n",
        "print(\"=\" * len(name))\n",
        "\n",
        "# Menu items and their prices\n",
        "menu = {1: \"chicken biriyani\",\n",
        "        2: \"mutton biriyani\",\n",
        "        3: \"chicken tikka biriyani\",\n",
        "        4: \"veg biriyani\",\n",
        "        5: \"fish biriyani\",\n",
        "        6: \"prawns biriyani\",\n",
        "        7: \"water bottle\",\n",
        "        8: \"cooldrinks\"}\n",
        "price ={1:250,2:300,3:350,4:200,5:400,6:450,7:10,8:20}\n",
        "# Initialize total amount\n",
        "amount = 0\n",
        "\n",
        "# Loop to take orders\n",
        "while True:\n",
        "    # Prompt for order\n",
        "    item = int(input(\" ORDER    :\"))\n",
        "\n",
        "    # Check if the item is available in the menu\n",
        "    if item in menu:\n",
        "        print(\" Available\")\n",
        "\n",
        "        # Prompt for quantity\n",
        "        quantity = int(input(\" Qty      :\"))\n",
        "\n",
        "        # Display item details\n",
        "        print(f\" Item✍️  : {menu[item]} :{price[item]}$\")\n",
        "\n",
        "        # Calculate total price\n",
        "        total_price = price[item] * quantity\n",
        "\n",
        "        # Calculate GST\n",
        "        gst = (total_price * 5) / 100\n",
        "\n",
        "        # Calculate total amount including GST\n",
        "        total_amount = total_price + gst\n",
        "\n",
        "        # Add total amount to the overall amount\n",
        "        amount += total_amount\n",
        "\n",
        "        # Display total price and total amount including GST\n",
        "        print(f\" Total $  : {total_price}\")\n",
        "        print(f\" Total&GST: {total_amount}\")\n",
        "\n",
        "        # Prompt to add another order\n",
        "        another_order = input(\" Do you want to add another order (yes or no): \")\n",
        "\n",
        "        # Check if customer wants to add another order\n",
        "        if another_order.lower() == 'no':\n",
        "            # Print total amount and end loop\n",
        "            print(\"=\" * 30)\n",
        "            print(f\" Total Amount: ${amount}\")\n",
        "            print(\"----🙏🙏Thanks for Ordering😊🤗----\")\n",
        "            break\n",
        "    else:\n",
        "        print(\" Not available\")  # Print message if item is not available\n"
      ],
      "metadata": {
        "colab": {
          "base_uri": "https://localhost:8080/"
        },
        "id": "E-2cibZdcB3T",
        "outputId": "a2b7aa5e-bc41-447e-ec40-fb7cfab442b2"
      },
      "execution_count": 33,
      "outputs": [
        {
          "output_type": "stream",
          "name": "stdout",
          "text": [
            "SARIGAMA FAMILY RESTAURANT\n",
            "Address : Hindhupur\n",
            "==========================\n",
            " ORDER    :1\n",
            " Available\n",
            " Qty      :2\n",
            " Item✍️  : chicken biriyani :250$\n",
            " Total $  : 500\n",
            " Total&GST: 525.0\n",
            " Do you want to add another order (yes or no): yes\n",
            " ORDER    :2\n",
            " Available\n",
            " Qty      :3\n",
            " Item✍️  : mutton biriyani :300$\n",
            " Total $  : 900\n",
            " Total&GST: 945.0\n",
            " Do you want to add another order (yes or no): no\n",
            "==============================\n",
            " Total Amount: $1470.0\n",
            "----🙏🙏Thanks for Ordering😊🤗----\n"
          ]
        }
      ]
    }
  ],
  "metadata": {
    "colab": {
      "provenance": []
    },
    "kernelspec": {
      "display_name": "Python 3",
      "name": "python3"
    },
    "language_info": {
      "name": "python"
    }
  },
  "nbformat": 4,
  "nbformat_minor": 0
}