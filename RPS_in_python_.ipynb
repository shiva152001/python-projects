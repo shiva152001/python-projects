{
  "cells": [
    {
      "cell_type": "code",
      "execution_count": 1,
      "metadata": {
        "colab": {
          "base_uri": "https://localhost:8080/"
        },
        "id": "Dr33ATu1GlzV",
        "outputId": "7f8abb10-1935-4440-d860-784b01673ca2"
      },
      "outputs": [
        {
          "output_type": "stream",
          "name": "stdout",
          "text": [
            "Enter your choice (rock, paper, scissors): rock\n",
            "You lose! Paper beats Rock.\n"
          ]
        }
      ],
      "source": [
        "import random as game  #Returns a random float number between 0 and 1\n",
        "\n",
        "start= [\"Rock\", \"Paper\", \"Scissors\"]\n",
        "\n",
        "RPS = game.choice(start)\n",
        "\n",
        "gamer= False\n",
        "\n",
        "while not gamer:\n",
        "    user = input(\"Enter your choice (rock, paper, scissors): \").capitalize()\n",
        "\n",
        "    if user in start:                                                                                           #[\"Rock\", \"Paper\", \"Scissors\"]\n",
        "        gamer = True\n",
        "    else:\n",
        "        print(\"Invalid choice. Please enter 'rock', 'paper', or 'scissors'.\")\n",
        "\n",
        "if user == RPS:\n",
        "    print(f\"Both chose {user}. It's a tie!\")\n",
        "elif (user == \"Rock\" and RPS == \"Scissors\") or (user == \"Paper\" and RPS == \"Rock\") or (user == \"Scissors\" and RPS == \"Paper\"):\n",
        "    print(f\"You win! {user} beats {RPS}.\")\n",
        "else:\n",
        "    print(f\"You lose! {RPS} beats {user}.\")\n"
      ]
    },
    {
      "cell_type": "code",
      "source": [
        "import random as game  # Importing the random module and aliasing it as 'game'\n",
        "\n",
        "# List of choices available in the game\n",
        "start = [\"Rock\", \"Paper\", \"Scissors\"]\n",
        "\n",
        "# Randomly selecting an element from the 'start' list, representing the computer's choice\n",
        "RPS = game.choice(start)\n",
        "\n",
        "# Initializing a variable to control the game loop\n",
        "gamer = False\n",
        "\n",
        "# Looping until a valid choice is made by the user\n",
        "while not gamer:\n",
        "    # Prompting the user to enter their choice and capitalizing the input for consistency\n",
        "    user = input(\"Enter your choice (rock, paper, scissors): \").capitalize()\n",
        "\n",
        "    # Checking if the user's input is a valid choice\n",
        "    if user in start:  # If the user's input is in the 'start' list\n",
        "        gamer = True  # Setting 'gamer' to True to exit the loop\n",
        "    else:\n",
        "        print(\"Invalid choice. Please enter 'rock', 'paper', or 'scissors'.\")  # Displaying an error message for invalid input\n",
        "\n",
        "# Comparing the user's choice with the computer's choice to determine the outcome\n",
        "if user == RPS:  # If both the user and computer choose the same option\n",
        "    print(f\"Both chose {user}. It's a tie!\")  # Displaying a tie message\n",
        "elif (user == \"Rock\" and RPS == \"Scissors\") or (user == \"Paper\" and RPS == \"Rock\") or (user == \"Scissors\" and RPS == \"Paper\"):\n",
        "    # If the user wins based on the game rules\n",
        "    print(f\"You win! {user} beats {RPS}.\")  # Displaying a win message\n",
        "else:\n",
        "    # If the computer wins based on the game rules\n",
        "    print(f\"You lose! {RPS} beats {user}.\")  # Displaying a lose message\n"
      ],
      "metadata": {
        "colab": {
          "base_uri": "https://localhost:8080/"
        },
        "id": "aebNP7Lyhi-P",
        "outputId": "4c39f141-9d37-4b9b-bed0-28f5efb63064"
      },
      "execution_count": 2,
      "outputs": [
        {
          "output_type": "stream",
          "name": "stdout",
          "text": [
            "Enter your choice (rock, paper, scissors): rock\n",
            "You win! Rock beats Scissors.\n"
          ]
        }
      ]
    }
  ],
  "metadata": {
    "colab": {
      "provenance": []
    },
    "kernelspec": {
      "display_name": "Python 3",
      "name": "python3"
    },
    "language_info": {
      "name": "python"
    }
  },
  "nbformat": 4,
  "nbformat_minor": 0
}