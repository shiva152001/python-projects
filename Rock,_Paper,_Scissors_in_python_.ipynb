{
  "nbformat": 4,
  "nbformat_minor": 0,
  "metadata": {
    "colab": {
      "provenance": []
    },
    "kernelspec": {
      "name": "python3",
      "display_name": "Python 3"
    },
    "language_info": {
      "name": "python"
    }
  },
  "cells": [
    {
      "cell_type": "code",
      "source": [
        "import random as game  #Returns a random float number between 0 and 1\n",
        "\n",
        "start= [\"Rock\", \"Paper\", \"Scissors\"]\n",
        "\n",
        "RPS = game.choice(start)\n",
        "\n",
        "gamer= False\n",
        "\n",
        "while not gamer:\n",
        "    user = input(\"Enter your choice (rock, paper, scissors): \").capitalize()\n",
        "\n",
        "    if user in start:                                                                                           #[\"Rock\", \"Paper\", \"Scissors\"]\n",
        "        gamer = True\n",
        "    else:\n",
        "        print(\"Invalid choice. Please enter 'rock', 'paper', or 'scissors'.\")\n",
        "\n",
        "if user == RPS:\n",
        "    print(f\"Both chose {user}. It's a tie!\")\n",
        "elif (user == \"Rock\" and RPS == \"Scissors\") or (user == \"Paper\" and RPS == \"Rock\") or (user == \"Scissors\" and RPS == \"Paper\"):\n",
        "    print(f\"You win! {user} beats {RPS}.\")\n",
        "else:\n",
        "    print(f\"You lose! {RPS} beats {user}.\")\n"
      ],
      "metadata": {
        "colab": {
          "base_uri": "https://localhost:8080/"
        },
        "id": "Dr33ATu1GlzV",
        "outputId": "599fbdfd-6f23-49f7-b7cc-0cf2be899c47"
      },
      "execution_count": 22,
      "outputs": [
        {
          "output_type": "stream",
          "name": "stdout",
          "text": [
            "Enter your choice (rock, paper, scissors): Paper\n",
            "You lose! Scissors beats Paper.\n"
          ]
        }
      ]
    }
  ]
}